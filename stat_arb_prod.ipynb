{
 "cells": [
  {
   "cell_type": "code",
   "execution_count": 131,
   "metadata": {},
   "outputs": [],
   "source": [
    "import pandas as pd\n",
    "import numpy as np\n",
    "import binance_socket\n",
    "import dataDownloaders\n",
    "import labelling_functions\n",
    "import helper_functions\n",
    "import imp\n",
    "import configparser\n",
    "import threading\n",
    "from binance_socket import binancePublicSocket\n",
    "import matplotlib.pyplot as plt\n",
    "import statistics\n",
    "import statsmodels.api as sm\n",
    "from statsmodels.tsa.ar_model import AutoReg\n",
    "import seaborn as sns\n",
    "from matplotlib.pyplot import figure\n",
    "import math\n",
    "import forecasting_backtesting\n",
    "import pickle as pk\n",
    "from datetime import datetime,timedelta\n",
    "from binance.client import Client\n",
    "import pygsheets\n",
    "import time"
   ]
  },
  {
   "cell_type": "code",
   "execution_count": 21,
   "metadata": {},
   "outputs": [],
   "source": [
    "with open(r\"/Users/Hugolu88/Documents/repos/binance_v2/strategies/btc_bnb_stat_arb/variables.pickle\", \"rb\") as output_file:\n",
    "    loaded = pk.load(output_file)"
   ]
  },
  {
   "cell_type": "code",
   "execution_count": 80,
   "metadata": {},
   "outputs": [],
   "source": [
    "googlesheetbase = pygsheets.authorize(service_file='/Users/Hugolu88/Documents/repos/binance_v2/gsdata-313315-6c56edae3685.json')\n",
    "sheet = googlesheetbase.open('Indicators')\n",
    "worksheet= sheet[0]\n",
    "start_row = 44\n",
    "start_column = 4"
   ]
  },
  {
   "cell_type": "code",
   "execution_count": 31,
   "metadata": {},
   "outputs": [],
   "source": [
    "pairs = loaded[0]\n",
    "parameters = loaded[1]\n",
    "constants = loaded[2]\n",
    "betas = loaded[3]\n",
    "signal_roll = loaded[4]\n",
    "X2 = [x[1] for x in pairs]\n",
    "X1 = [x[0] for x in pairs]\n",
    "len_all_items = len(pairs)\n",
    "all_items = list(pd.Series([x[0] for x in pairs]+[x[1] for x in pairs]).drop_duplicates())"
   ]
  },
  {
   "cell_type": "code",
   "execution_count": 41,
   "metadata": {},
   "outputs": [
    {
     "name": "stdout",
     "output_type": "stream",
     "text": [
      "Initiating Binance client\n"
     ]
    }
   ],
   "source": [
    "config = configparser.ConfigParser()\n",
    "config.read('/Users/Hugolu88/Documents/repos/binance_v2/config_global.ini')\n",
    "key = config['PARAMETERS']['key']\n",
    "scrt = config['PARAMETERS']['scrt']\n",
    "\n",
    "print(\"Initiating Binance client\")\n",
    "float_list = [\"Open\",\"High\",\"Low\",\"Close\",\"Volume\",\"Quote asset volume\",\"Number of trades\",\"Taker buy base asset volume\",\"Taker buy quote asset volume\"]\n",
    "storage = []\n",
    "storage_lock = threading.Lock()\n",
    "client = binancePublicSocket(storage,storage_lock,api_key = key,api_secret = scrt)"
   ]
  },
  {
   "cell_type": "code",
   "execution_count": 23,
   "metadata": {},
   "outputs": [],
   "source": [
    "#We also need the alphas, betas to construct the signal, that is, x2hat. The signal roll (to calculate the window)\n",
    "# for the signal\n",
    "# the granularity to get the data as well"
   ]
  },
  {
   "cell_type": "code",
   "execution_count": 141,
   "metadata": {},
   "outputs": [
    {
     "name": "stdout",
     "output_type": "stream",
     "text": [
      "initiating\n",
      "Please input the days back (remember model in 15 minutes) (float)\n",
      "40\n",
      "getting data for: LINKUSDT\n",
      "getting data for: LTCUSDT\n"
     ]
    }
   ],
   "source": [
    "helper = helper_functions.helper()\n",
    "days_back = helper.input_float(\"days back (remember model in 15 minutes)\")\n",
    "\n",
    "end_string = datetime.now().strftime(\"%d %b, %Y\")\n",
    "start_string = (datetime.now() - timedelta(days=  days_back)).strftime(\"%d %b, %Y\")\n",
    "utc_time = lambda x: datetime.fromtimestamp(x/1000).strftime(\"%Y-%m-%d %H:%M:%S\")\n",
    "\n",
    "klines = []\n",
    "for i in all_items:\n",
    "    print(\"getting data for: \"+str(i))\n",
    "    klines.append(client.get_historical_klines(i, Client.KLINE_INTERVAL_15MINUTE, start_string,end_string))"
   ]
  },
  {
   "cell_type": "code",
   "execution_count": 142,
   "metadata": {},
   "outputs": [],
   "source": [
    "data = []\n",
    "for i1,i in enumerate(klines):\n",
    "    rider =pd.DataFrame(i,columns = [\"open_time\",\"Open\",\"High\",\"Low\",\"Close\",\"Volume\",\"Close time\",\"Quote asset volume\",\"Number of trades\",\"Taker buy base asset volume\",\"Taker buy quote asset volume\",\"ignore\"])\n",
    "    rider['open_time'] = rider['open_time'].apply(utc_time)\n",
    "    rider['Close time'] = rider['Close time'].apply(utc_time)\n",
    "    rider['ticker'] = all_items[i1]\n",
    "    for j in float_list:\n",
    "        rider[j] = rider[j].astype(\"float\")\n",
    "    data.append(rider)\n",
    "data_dictionary = dict(zip(all_items,data))\n",
    "\n"
   ]
  },
  {
   "cell_type": "code",
   "execution_count": 143,
   "metadata": {},
   "outputs": [
    {
     "name": "stdout",
     "output_type": "stream",
     "text": [
      "preparing pairs data\n"
     ]
    }
   ],
   "source": [
    "print(\"preparing pairs data\")\n",
    "pairs_data = []\n",
    "for i,item in enumerate(pairs):\n",
    "    x1 = data_dictionary[item[0]]['Close']\n",
    "    x2 = data_dictionary[item[1]]['Close']\n",
    "    time_= data_dictionary[item[0]]['open_time']\n",
    "    signal_raw = (x1*betas[i]+constants[i]-x2)\n",
    "    rolling_signal = (signal_raw-signal_raw.rolling(signal_roll).mean())/signal_raw.rolling(signal_roll).std()\n",
    "    pairs_data.append(pd.DataFrame(np.array([x1,x2,signal_raw,rolling_signal,time_]).T,columns = [item[0],item[1],'signal_raw','signal','open_time']))"
   ]
  },
  {
   "cell_type": "code",
   "execution_count": null,
   "metadata": {},
   "outputs": [],
   "source": []
  },
  {
   "cell_type": "code",
   "execution_count": 102,
   "metadata": {},
   "outputs": [],
   "source": [
    "means = []\n",
    "standard_deviations = []\n",
    "for i,item in enumerate(pairs_data):\n",
    "    means.append(item['signal_raw'].rolling(signal_roll).mean()[len(item)-1])\n",
    "    standard_deviations.append(item['signal_raw'].rolling(signal_roll).std()[len(item)-1])\n",
    "\n"
   ]
  },
  {
   "cell_type": "code",
   "execution_count": 103,
   "metadata": {},
   "outputs": [],
   "source": [
    "pump_dic = dict(zip(all_items,pairs_data))"
   ]
  },
  {
   "cell_type": "code",
   "execution_count": 147,
   "metadata": {},
   "outputs": [],
   "source": [
    "#reminder of what we need:\n",
    "pump_dic = pump_dic\n",
    "parameters = parameters\n",
    "constants = constants\n",
    "betas = betas\n",
    "means = means\n",
    "standard_deviations = standard_deviations\n",
    "X1= X1\n",
    "X2 = X2\n",
    "min_15_data= data_dictionary.copy()\n",
    "pairs_data_copy = pairs_data.copy()"
   ]
  },
  {
   "cell_type": "code",
   "execution_count": 127,
   "metadata": {},
   "outputs": [
    {
     "name": "stdout",
     "output_type": "stream",
     "text": [
      "sending tickers to gsheet\n",
      "sending params to gsheet\n"
     ]
    }
   ],
   "source": [
    "print(\"sending tickers to gsheet\")\n",
    "worksheet.set_dataframe(pd.DataFrame(pairs),(start_row,start_column-2))\n",
    "print(\"sending params to gsheet\")\n",
    "worksheet.set_dataframe(pd.DataFrame(parameters),(start_row,start_column))"
   ]
  },
  {
   "cell_type": "code",
   "execution_count": 128,
   "metadata": {},
   "outputs": [
    {
     "name": "stdout",
     "output_type": "stream",
     "text": [
      "Preparing to loop\n"
     ]
    }
   ],
   "source": [
    "print(\"Preparing to loop\")"
   ]
  },
  {
   "cell_type": "code",
   "execution_count": 169,
   "metadata": {},
   "outputs": [
    {
     "name": "stdout",
     "output_type": "stream",
     "text": [
      "fetching data\n",
      "Calcing signals\n",
      "Calcing signals\n",
      "Calcing signals\n",
      "Calcing signals\n",
      "Calcing signals\n",
      "Calcing signals\n",
      "Calcing signals\n",
      "Calcing signals\n",
      "Calcing signals\n",
      "Calcing signals\n",
      "Calcing signals\n",
      "Calcing signals\n",
      "Calcing signals\n",
      "Calcing signals\n",
      "Calcing signals\n",
      "Calcing signals\n",
      "Calcing signals\n",
      "Calcing signals\n",
      "Calcing signals\n",
      "Calcing signals\n",
      "Calcing signals\n",
      "Calcing signals\n",
      "Calcing signals\n",
      "Calcing signals\n",
      "Calcing signals\n",
      "Calcing signals\n",
      "Calcing signals\n",
      "Calcing signals\n",
      "Calcing signals\n",
      "Calcing signals\n",
      "Calcing signals\n",
      "Calcing signals\n",
      "Calcing signals\n",
      "Calcing signals\n",
      "Calcing signals\n",
      "Calcing signals\n",
      "Calcing signals\n",
      "Calcing signals\n",
      "Calcing signals\n",
      "Calcing signals\n",
      "Calcing signals\n",
      "Calcing signals\n",
      "Calcing signals\n",
      "Calcing signals\n",
      "Calcing signals\n"
     ]
    },
    {
     "ename": "KeyboardInterrupt",
     "evalue": "",
     "output_type": "error",
     "traceback": [
      "\u001b[0;31m---------------------------------------------------------------------------\u001b[0m",
      "\u001b[0;31mKeyboardInterrupt\u001b[0m                         Traceback (most recent call last)",
      "\u001b[0;32m<ipython-input-169-6d242d6343cb>\u001b[0m in \u001b[0;36m<module>\u001b[0;34m\u001b[0m\n\u001b[1;32m     66\u001b[0m         \u001b[0mstandard_deviations\u001b[0m\u001b[0;34m[\u001b[0m\u001b[0mi\u001b[0m\u001b[0;34m]\u001b[0m \u001b[0;34m=\u001b[0m \u001b[0mpairs_data_copy\u001b[0m\u001b[0;34m[\u001b[0m\u001b[0mi\u001b[0m\u001b[0;34m]\u001b[0m\u001b[0;34m[\u001b[0m\u001b[0;34m'signal_raw'\u001b[0m\u001b[0;34m]\u001b[0m\u001b[0;34m.\u001b[0m\u001b[0mrolling\u001b[0m\u001b[0;34m(\u001b[0m\u001b[0msignal_roll\u001b[0m\u001b[0;34m)\u001b[0m\u001b[0;34m.\u001b[0m\u001b[0mstd\u001b[0m\u001b[0;34m(\u001b[0m\u001b[0;34m)\u001b[0m\u001b[0;34m[\u001b[0m\u001b[0mlen\u001b[0m\u001b[0;34m(\u001b[0m\u001b[0mpairs_data_copy\u001b[0m\u001b[0;34m[\u001b[0m\u001b[0mi\u001b[0m\u001b[0;34m]\u001b[0m\u001b[0;34m)\u001b[0m\u001b[0;34m-\u001b[0m\u001b[0;36m1\u001b[0m\u001b[0;34m]\u001b[0m\u001b[0;34m\u001b[0m\u001b[0;34m\u001b[0m\u001b[0m\n\u001b[1;32m     67\u001b[0m \u001b[0;34m\u001b[0m\u001b[0m\n\u001b[0;32m---> 68\u001b[0;31m     \u001b[0mtime\u001b[0m\u001b[0;34m.\u001b[0m\u001b[0msleep\u001b[0m\u001b[0;34m(\u001b[0m\u001b[0;36m10\u001b[0m\u001b[0;34m)\u001b[0m \u001b[0;31m# sleep to avoid connection timeouts\u001b[0m\u001b[0;34m\u001b[0m\u001b[0;34m\u001b[0m\u001b[0m\n\u001b[0m\u001b[1;32m     69\u001b[0m \u001b[0;34m\u001b[0m\u001b[0m\n\u001b[1;32m     70\u001b[0m \u001b[0;34m\u001b[0m\u001b[0m\n",
      "\u001b[0;31mKeyboardInterrupt\u001b[0m: "
     ]
    }
   ],
   "source": [
    "iterations = 0\n",
    "sleep_factor = 0.5\n",
    "print(\"fetching data\")\n",
    "\n",
    "\n",
    "\n",
    "while True:\n",
    "    config = configparser.ConfigParser()\n",
    "    config.read('/Users/Hugolu88/Documents/repos/binance_v2/config_global.ini')\n",
    "    switch = config['FILE_ON']['statarb']\n",
    "    if switch != \"Yes\":\n",
    "        break\n",
    "    klines= []\n",
    "    print(\"Calcing signals\")\n",
    "    #Signal calcing\n",
    "    pricingdata = client.get_all_tickers()\n",
    "\n",
    "    symbols = [x['symbol'] for x in pricingdata]\n",
    "    prices = [x['price'] for x in pricingdata]\n",
    "    price_dict = dict(zip(symbols,prices))\n",
    "    relevant = [float(price_dict[x]) for x in all_items]\n",
    "\n",
    "    for i,item in enumerate(pairs):\n",
    "        upper,lower= parameters[i][0],parameters[i][1]\n",
    "        signal = (float(price_dict[item[0]])*betas[i]+constants[0])-float(price_dict[item[1]])\n",
    "        normalised_signal = (signal - means[i])/standard_deviations[i]\n",
    "        worksheet.update_value((start_row+1+i,start_column+3),normalised_signal)\n",
    "    #DATA DOWNLOAD LOOP START ----------------------------------------------------\n",
    "    for i in all_items:\n",
    "\n",
    "        while True: #Keep trying to append something to the historical klines until we can't\n",
    "            try:\n",
    "                klines.append(client.get_historical_klines(i, Client.KLINE_INTERVAL_15MINUTE, \"1000 minutes ago UTC\"))\n",
    "                counter = 0\n",
    "                break\n",
    "            except:\n",
    "                time.sleep(10)\n",
    "                counter += 1\n",
    "                if counter > 400:\n",
    "                    print(\"ERROR TIME OUT\")\n",
    "                    break\n",
    "    data = []\n",
    "\n",
    "    for i1,item in enumerate(klines):\n",
    "        rider =pd.DataFrame(item,columns = [\"open_time\",\"Open\",\"High\",\"Low\",\"Close\",\"Volume\",\"Close time\",\"Quote asset volume\",\"Number of trades\",\"Taker buy base asset volume\",\"Taker buy quote asset volume\",\"ignore\"])\n",
    "        rider['open_time'] = rider['open_time'].apply(utc_time)\n",
    "        rider['Close time'] = rider['Close time'].apply(utc_time)\n",
    "        rider['ticker'] = all_items[i1]\n",
    "        for j in float_list:\n",
    "            rider[j] = rider[j].astype(\"float\")\n",
    "        data.append(rider)\n",
    "    for j,i in enumerate(data):\n",
    "        appends = i[i['open_time']>min_15_data[all_items[j]]['open_time'].max()]\n",
    "        min_15_data[all_items[j]] = min_15_data[all_items[j]].append(appends).reset_index(drop=True)\n",
    "        \n",
    "    for i,item in enumerate(pairs):\n",
    "        x1 = min_15_data[item[0]]['Close']\n",
    "        x2 = min_15_data[item[1]]['Close']\n",
    "        time_= min_15_data[item[0]]['open_time']\n",
    "        signal_raw = (x1*betas[i]+constants[i]-x2)\n",
    "        rolling_signal = (signal_raw-signal_raw.rolling(signal_roll).mean())/signal_raw.rolling(signal_roll).std()\n",
    "        rider = pd.DataFrame(np.array([x1,x2,signal_raw,rolling_signal,time_]).T,columns = [item[0],item[1],'signal_raw','signal','open_time'])\n",
    "        appends = rider[rider['open_time']>pairs_data_copy[i]['open_time'].max()]\n",
    "        pairs_data_copy[i] = pairs_data_copy[i].append(appends).reset_index(drop=True)\n",
    "        means[i] = pairs_data_copy[i]['signal_raw'].rolling(signal_roll).mean()[len(pairs_data_copy[i])-1]\n",
    "        standard_deviations[i] = pairs_data_copy[i]['signal_raw'].rolling(signal_roll).std()[len(pairs_data_copy[i])-1]               \n",
    "\n",
    "    time.sleep(10) # sleep to avoid connection timeouts\n"
   ]
  }
 ],
 "metadata": {
  "kernelspec": {
   "display_name": "Python 3",
   "language": "python",
   "name": "python3"
  },
  "language_info": {
   "codemirror_mode": {
    "name": "ipython",
    "version": 3
   },
   "file_extension": ".py",
   "mimetype": "text/x-python",
   "name": "python",
   "nbconvert_exporter": "python",
   "pygments_lexer": "ipython3",
   "version": "3.7.4"
  }
 },
 "nbformat": 4,
 "nbformat_minor": 2
}
